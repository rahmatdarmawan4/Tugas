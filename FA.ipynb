{
  "nbformat": 4,
  "nbformat_minor": 0,
  "metadata": {
    "colab": {
      "name": "FA_PPT.ipynb",
      "provenance": [],
      "mount_file_id": "1iDtSs6zfy5wN0yZ0YqWR6zMYTB3ctpow",
      "authorship_tag": "ABX9TyM1kYuohGre1uyNWzSd6QAZ",
      "include_colab_link": true
    },
    "kernelspec": {
      "name": "python3",
      "display_name": "Python 3"
    },
    "language_info": {
      "name": "python"
    }
  },
  "cells": [
    {
      "cell_type": "markdown",
      "metadata": {
        "id": "view-in-github",
        "colab_type": "text"
      },
      "source": [
        "<a href=\"https://colab.research.google.com/github/rahmatdarmawan4/Tugas/blob/main/FA.ipynb\" target=\"_parent\"><img src=\"https://colab.research.google.com/assets/colab-badge.svg\" alt=\"Open In Colab\"/></a>"
      ]
    },
    {
      "cell_type": "code",
      "metadata": {
        "id": "CM-Z6IFbxusR"
      },
      "source": [
        "from sklearn.decomposition import FactorAnalysis"
      ],
      "execution_count": 1,
      "outputs": []
    },
    {
      "cell_type": "code",
      "metadata": {
        "id": "z9YtzZIwx5-K"
      },
      "source": [
        "fa = FactorAnalysis(n_components=2)\n",
        "iris_two_dim = fa.fit_transform(iris.data)\n",
        "iris_two_dim[:5]"
      ],
      "execution_count": null,
      "outputs": []
    },
    {
      "cell_type": "code",
      "metadata": {
        "id": "fjylKQtA1zuu"
      },
      "source": [
        "array([[-1.32761727, -0.56131076],\n",
        "       [-1.33763854, -0.00279765],\n",
        "       [-1.40281483,  0.30634949],\n",
        "       [-1.30104274,  0.71882683],\n",
        "       [-1.33342439, -0.36458899]])"
      ],
      "execution_count": null,
      "outputs": []
    }
  ]
}