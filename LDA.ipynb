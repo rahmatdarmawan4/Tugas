{
  "nbformat": 4,
  "nbformat_minor": 0,
  "metadata": {
    "colab": {
      "name": "LDA_PPT.ipynb",
      "provenance": [],
      "mount_file_id": "15hxr5nwZPYrG2IAmfKPha519dYFxG-sU",
      "authorship_tag": "ABX9TyMdzli4V7tDaRgTuO3cYt/D",
      "include_colab_link": true
    },
    "kernelspec": {
      "name": "python3",
      "display_name": "Python 3"
    },
    "language_info": {
      "name": "python"
    }
  },
  "cells": [
    {
      "cell_type": "markdown",
      "metadata": {
        "id": "view-in-github",
        "colab_type": "text"
      },
      "source": [
        "<a href=\"https://colab.research.google.com/github/rahmatdarmawan4/Tugas/blob/main/LDA.ipynb\" target=\"_parent\"><img src=\"https://colab.research.google.com/assets/colab-badge.svg\" alt=\"Open In Colab\"/></a>"
      ]
    },
    {
      "cell_type": "code",
      "metadata": {
        "id": "9LjDT7cvUFoe"
      },
      "source": [
        "import matplotlib.pyplot as plt"
      ],
      "execution_count": null,
      "outputs": []
    },
    {
      "cell_type": "code",
      "metadata": {
        "id": "EzjWr4cJp63_"
      },
      "source": [
        "from sklearn import datasets\n",
        "from sklearn.decomposition import PCA\n",
        "from sklearn.discriminant_analysis import LinearDiscriminantAnalysis"
      ],
      "execution_count": null,
      "outputs": []
    },
    {
      "cell_type": "code",
      "metadata": {
        "id": "O5oYJ2ixqG3M"
      },
      "source": [
        "iris = datasets.load_iris()"
      ],
      "execution_count": null,
      "outputs": []
    },
    {
      "cell_type": "code",
      "metadata": {
        "id": "0oOm4JYgqKYa"
      },
      "source": [
        "X = iris.data\n",
        "y = iris.target\n",
        "target_names = iris.target_names"
      ],
      "execution_count": null,
      "outputs": []
    },
    {
      "cell_type": "code",
      "metadata": {
        "id": "V3MF5WGBqU7o"
      },
      "source": [
        "pca = PCA(n_components=2)\n",
        "X_r = pca.fit(X).transform(X)"
      ],
      "execution_count": null,
      "outputs": []
    },
    {
      "cell_type": "code",
      "metadata": {
        "id": "WoiRssyY8mwp"
      },
      "source": [
        "LDA = LinearDiscriminantAnalysis(n_components=2)\n",
        "X_r2 = LDA.fit(X, y).transform(X)"
      ],
      "execution_count": null,
      "outputs": []
    },
    {
      "cell_type": "code",
      "metadata": {
        "id": "wYsQL0pBqevt",
        "colab": {
          "base_uri": "https://localhost:8080/"
        },
        "outputId": "84b4ae8f-08e8-4d90-acb6-5597c23caec3"
      },
      "source": [
        "print('explained variance ratio(first two components): %s'\n",
        "      % str(pca.explained_variance_ratio_))"
      ],
      "execution_count": null,
      "outputs": [
        {
          "output_type": "stream",
          "text": [
            "explained variance ratio(first two components): [0.92461872 0.05306648]\n"
          ],
          "name": "stdout"
        }
      ]
    },
    {
      "cell_type": "code",
      "metadata": {
        "id": "gpZpGPkdrHL_",
        "colab": {
          "base_uri": "https://localhost:8080/",
          "height": 34
        },
        "outputId": "a2c13abc-ca3c-4119-801d-f39821a4ab8d"
      },
      "source": [
        "plt.figure()\n",
        "colors = ['navy', 'turquoise', 'darkorange']\n",
        "lw = 2"
      ],
      "execution_count": null,
      "outputs": [
        {
          "output_type": "display_data",
          "data": {
            "text/plain": [
              "<Figure size 432x288 with 0 Axes>"
            ]
          },
          "metadata": {
            "tags": []
          }
        }
      ]
    },
    {
      "cell_type": "code",
      "metadata": {
        "colab": {
          "base_uri": "https://localhost:8080/",
          "height": 269
        },
        "id": "X3z9xALo9G-E",
        "outputId": "1ab1e538-ff2a-4172-ca1c-61b8e0bb61f5"
      },
      "source": [
        "for color, i, target_name in zip(colors, [0, 1, 2], target_names):\n",
        "    plt.scatter(X_r2[y == i, 0], X_r2[y == i, 1], alpha=.8, color=color,\n",
        "                label=target_name)"
      ],
      "execution_count": null,
      "outputs": [
        {
          "output_type": "display_data",
          "data": {
            "image/png": "[encoded data removed]",
            "text/plain": [
              "<Figure size 432x288 with 1 Axes>"
            ]
          },
          "metadata": {
            "tags": [],
            "needs_background": "light"
          }
        }
      ]
    },
    {
      "cell_type": "code",
      "metadata": {
        "colab": {
          "base_uri": "https://localhost:8080/",
          "height": 315
        },
        "id": "b6U2aiI_92xy",
        "outputId": "9bd86ab2-e803-497c-e9b4-e010dd1a1084"
      },
      "source": [
        "plt.legend(loc='best', shadow=False, scatterpoints=1)\n",
        "plt.title('LDA data_cancerUAS')"
      ],
      "execution_count": null,
      "outputs": [
        {
          "output_type": "stream",
          "text": [
            "No handles with labels found to put in legend.\n"
          ],
          "name": "stderr"
        },
        {
          "output_type": "execute_result",
          "data": {
            "text/plain": [
              "Text(0.5, 1.0, 'LDA data_cancerUAS')"
            ]
          },
          "metadata": {
            "tags": []
          },
          "execution_count": 32
        },
        {
          "output_type": "display_data",
          "data": {
            "image/png": "[encoded data removed]",
            "text/plain": [
              "<Figure size 432x288 with 1 Axes>"
            ]
          },
          "metadata": {
            "tags": [],
            "needs_background": "light"
          }
        }
      ]
    },
    {
      "cell_type": "code",
      "metadata": {
        "id": "fNEMI8G4-Fd4"
      },
      "source": [
        "plt.show()"
      ],
      "execution_count": null,
      "outputs": []
    }
  ]
}