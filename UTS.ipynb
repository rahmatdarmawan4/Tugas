{
  "nbformat": 4,
  "nbformat_minor": 0,
  "metadata": {
    "colab": {
      "name": "UTS.ipynb",
      "provenance": [],
      "include_colab_link": true
    },
    "kernelspec": {
      "name": "python3",
      "display_name": "Python 3"
    },
    "language_info": {
      "name": "python"
    }
  },
  "cells": [
    {
      "cell_type": "markdown",
      "metadata": {
        "id": "view-in-github",
        "colab_type": "text"
      },
      "source": [
        "<a href=\"https://colab.research.google.com/github/rahmatdarmawan4/Tugas/blob/main/UTS.ipynb\" target=\"_parent\"><img src=\"https://colab.research.google.com/assets/colab-badge.svg\" alt=\"Open In Colab\"/></a>"
      ]
    },
    {
      "cell_type": "code",
      "metadata": {
        "colab": {
          "base_uri": "https://localhost:8080/"
        },
        "id": "N7V7EexxuY0O",
        "outputId": "e9609b1b-8f3f-42ea-ce19-69e123f9b1df"
      },
      "source": [
        "cd /content/drive/MyDrive/Colab Notebooks"
      ],
      "execution_count": 33,
      "outputs": [
        {
          "output_type": "stream",
          "text": [
            "/content/drive/MyDrive/Colab Notebooks\n"
          ],
          "name": "stdout"
        }
      ]
    },
    {
      "cell_type": "code",
      "metadata": {
        "colab": {
          "base_uri": "https://localhost:8080/"
        },
        "id": "f0YQ_eiS10Pe",
        "outputId": "2e082d72-48a5-4f8e-aab9-57d89918ea7b"
      },
      "source": [
        "from google.colab import drive\n",
        "drive.mount('/content/drive')"
      ],
      "execution_count": 34,
      "outputs": [
        {
          "output_type": "stream",
          "text": [
            "Drive already mounted at /content/drive; to attempt to forcibly remount, call drive.mount(\"/content/drive\", force_remount=True).\n"
          ],
          "name": "stdout"
        }
      ]
    },
    {
      "cell_type": "code",
      "metadata": {
        "id": "bR2GymhI8AOA",
        "colab": {
          "base_uri": "https://localhost:8080/"
        },
        "outputId": "d400e538-270c-4204-abcd-04be8859f18e"
      },
      "source": [
        "ls"
      ],
      "execution_count": 35,
      "outputs": [
        {
          "output_type": "stream",
          "text": [
            "\u001b[0m\u001b[01;34m3scene\u001b[0m/                  data_cancer.csv        scenes_nn_4_layers.ipynb\n",
            "Cancer_Clustering.ipynb  Iris_Clustering.ipynb  Simple_ANN_in_Python.ipynb\n",
            "classify_iris_ANN.ipynb  README.md              UTS.ipynb\n"
          ],
          "name": "stdout"
        }
      ]
    },
    {
      "cell_type": "code",
      "metadata": {
        "id": "oJnslb2pulgX"
      },
      "source": [
        "# import the necessary packages\n",
        "from keras.models import Sequential\n",
        "from keras.layers.core import Activation\n",
        "from keras.layers.core import Flatten\n",
        "from keras.layers.core import Dense\n",
        "from keras.optimizers import Adam\n",
        "from sklearn.preprocessing import LabelBinarizer\n",
        "from sklearn.model_selection import train_test_split\n",
        "from sklearn.metrics import classification_report\n",
        "from PIL import Image, ImageOps\n",
        "from imutils import paths\n",
        "import numpy as np\n",
        "import os"
      ],
      "execution_count": 36,
      "outputs": []
    },
    {
      "cell_type": "code",
      "metadata": {
        "colab": {
          "base_uri": "https://localhost:8080/"
        },
        "id": "sLzkrIF_uo82",
        "outputId": "dbe6f15d-96f9-4be0-e1de-994ffb108781"
      },
      "source": [
        "# grab all image paths in the input dataset directory, then initialize\n",
        "# our list of images and corresponding class labels\n",
        "print(\"[INFO] loading images...\")\n",
        "imagePaths = paths.list_images(\"3scene\")\n",
        "data = []\n",
        "labels = []"
      ],
      "execution_count": 37,
      "outputs": [
        {
          "output_type": "stream",
          "text": [
            "[INFO] loading images...\n"
          ],
          "name": "stdout"
        }
      ]
    },
    {
      "cell_type": "code",
      "metadata": {
        "id": "t-rAxV5guqVf"
      },
      "source": [
        "# loop over our input images\n",
        "for imagePath in imagePaths:\n",
        "\t# load the input image from disk, resize it to 64x64 pixels, scale\n",
        "\t# the pixel intensities to the range [0, 1], and then update our\n",
        "\t# images list\n",
        "\timage = Image.open(imagePath)\n",
        " #bisa pasang preprocessing disini jika mau, seperti filterring, dll\n",
        "  \n",
        "\timage = np.array(image.resize((128, 128))) / 255.0 #normalisasi\n",
        "\tdata.append(image)\n",
        "\n",
        "\t# extract the class label from the file path and update the\n",
        "\t# labels list\n",
        "\tlabel = imagePath.split(os.path.sep)[-2]\n",
        "\tlabels.append(label)"
      ],
      "execution_count": 38,
      "outputs": []
    },
    {
      "cell_type": "code",
      "metadata": {
        "colab": {
          "base_uri": "https://localhost:8080/"
        },
        "id": "le4zk9atu1vn",
        "outputId": "58474006-c3b5-44e1-9eee-3071fa884cc8"
      },
      "source": [
        "print(labels)"
      ],
      "execution_count": 39,
      "outputs": [
        {
          "output_type": "stream",
          "text": [
            "['coast', 'coast', 'coast', 'coast', 'coast', 'coast', 'coast', 'coast', 'coast', 'coast', 'coast', 'coast', 'coast', 'coast', 'coast', 'coast', 'coast', 'coast', 'coast', 'coast', 'coast', 'coast', 'coast', 'coast', 'coast', 'coast', 'coast', 'coast', 'coast', 'coast', 'coast', 'coast', 'coast', 'coast', 'coast', 'coast', 'coast', 'coast', 'coast', 'coast', 'coast', 'coast', 'coast', 'coast', 'coast', 'coast', 'coast', 'coast', 'coast', 'coast', 'coast', 'coast', 'coast', 'coast', 'coast', 'coast', 'coast', 'coast', 'coast', 'coast', 'coast', 'coast', 'coast', 'coast', 'coast', 'coast', 'coast', 'coast', 'coast', 'coast', 'coast', 'coast', 'coast', 'coast', 'coast', 'coast', 'coast', 'coast', 'coast', 'coast', 'coast', 'coast', 'coast', 'coast', 'coast', 'coast', 'coast', 'coast', 'coast', 'coast', 'coast', 'coast', 'coast', 'coast', 'coast', 'coast', 'coast', 'coast', 'coast', 'coast', 'coast', 'coast', 'coast', 'coast', 'coast', 'coast', 'coast', 'coast', 'coast', 'coast', 'coast', 'coast', 'coast', 'coast', 'coast', 'coast', 'coast', 'coast', 'coast', 'coast', 'coast', 'coast', 'coast', 'coast', 'coast', 'coast', 'coast', 'coast', 'coast', 'coast', 'coast', 'coast', 'coast', 'coast', 'coast', 'coast', 'coast', 'coast', 'coast', 'coast', 'coast', 'coast', 'coast', 'coast', 'coast', 'coast', 'coast', 'coast', 'coast', 'coast', 'coast', 'coast', 'coast', 'coast', 'coast', 'coast', 'coast', 'coast', 'coast', 'coast', 'coast', 'coast', 'coast', 'coast', 'coast', 'coast', 'coast', 'coast', 'coast', 'coast', 'coast', 'coast', 'coast', 'coast', 'coast', 'coast', 'coast', 'coast', 'coast', 'coast', 'coast', 'coast', 'coast', 'coast', 'coast', 'coast', 'coast', 'coast', 'coast', 'coast', 'coast', 'coast', 'coast', 'coast', 'coast', 'coast', 'coast', 'coast', 'coast', 'coast', 'coast', 'coast', 'coast', 'coast', 'coast', 'coast', 'coast', 'coast', 'coast', 'coast', 'coast', 'coast', 'coast', 'coast', 'coast', 'coast', 'coast', 'coast', 'coast', 'coast', 'coast', 'coast', 'coast', 'coast', 'coast', 'coast', 'coast', 'coast', 'coast', 'coast', 'coast', 'coast', 'coast', 'coast', 'coast', 'coast', 'coast', 'coast', 'coast', 'coast', 'coast', 'coast', 'coast', 'coast', 'coast', 'coast', 'coast', 'coast', 'coast', 'coast', 'coast', 'coast', 'coast', 'coast', 'coast', 'coast', 'coast', 'coast', 'coast', 'coast', 'coast', 'coast', 'coast', 'coast', 'coast', 'coast', 'coast', 'coast', 'coast', 'coast', 'coast', 'coast', 'coast', 'coast', 'coast', 'coast', 'coast', 'coast', 'coast', 'coast', 'coast', 'coast', 'coast', 'coast', 'coast', 'coast', 'coast', 'coast', 'coast', 'coast', 'coast', 'coast', 'coast', 'coast', 'coast', 'coast', 'coast', 'coast', 'coast', 'coast', 'coast', 'coast', 'coast', 'coast', 'coast', 'coast', 'coast', 'coast', 'coast', 'coast', 'coast', 'coast', 'coast', 'coast', 'coast', 'coast', 'coast', 'coast', 'coast', 'coast', 'coast', 'coast', 'coast', 'coast', 'coast', 'coast', 'coast', 'coast', 'coast', 'coast', 'coast', 'coast', 'coast', 'coast', 'coast', 'coast', 'coast', 'coast', 'coast', 'coast', 'coast', 'coast', 'coast', 'coast', 'coast', 'coast', 'coast', 'coast', 'coast', 'coast', 'coast', 'coast', 'coast', 'coast', 'coast', 'coast', 'coast', 'coast', 'coast', 'coast', 'forest', 'forest', 'forest', 'forest', 'forest', 'forest', 'forest', 'forest', 'forest', 'forest', 'forest', 'forest', 'forest', 'forest', 'forest', 'forest', 'forest', 'forest', 'forest', 'forest', 'forest', 'forest', 'forest', 'forest', 'forest', 'forest', 'forest', 'forest', 'forest', 'forest', 'forest', 'forest', 'forest', 'forest', 'forest', 'forest', 'forest', 'forest', 'forest', 'forest', 'forest', 'forest', 'forest', 'forest', 'forest', 'forest', 'forest', 'forest', 'forest', 'forest', 'forest', 'forest', 'forest', 'forest', 'forest', 'forest', 'forest', 'forest', 'forest', 'forest', 'forest', 'forest', 'forest', 'forest', 'forest', 'forest', 'forest', 'forest', 'forest', 'forest', 'forest', 'forest', 'forest', 'forest', 'forest', 'forest', 'forest', 'forest', 'forest', 'forest', 'forest', 'forest', 'forest', 'forest', 'forest', 'forest', 'forest', 'forest', 'forest', 'forest', 'forest', 'forest', 'forest', 'forest', 'forest', 'forest', 'forest', 'forest', 'forest', 'forest', 'forest', 'forest', 'forest', 'forest', 'forest', 'forest', 'forest', 'forest', 'forest', 'forest', 'forest', 'forest', 'forest', 'forest', 'forest', 'forest', 'forest', 'forest', 'forest', 'forest', 'forest', 'forest', 'forest', 'forest', 'forest', 'forest', 'forest', 'forest', 'forest', 'forest', 'forest', 'forest', 'forest', 'forest', 'forest', 'forest', 'forest', 'forest', 'forest', 'forest', 'forest', 'forest', 'forest', 'forest', 'forest', 'forest', 'forest', 'forest', 'forest', 'forest', 'forest', 'forest', 'forest', 'forest', 'forest', 'forest', 'forest', 'forest', 'forest', 'forest', 'forest', 'forest', 'forest', 'forest', 'forest', 'forest', 'forest', 'forest', 'forest', 'forest', 'forest', 'forest', 'forest', 'forest', 'forest', 'forest', 'forest', 'forest', 'forest', 'forest', 'forest', 'forest', 'forest', 'forest', 'forest', 'forest', 'forest', 'forest', 'forest', 'forest', 'forest', 'forest', 'forest', 'forest', 'forest', 'forest', 'forest', 'forest', 'forest', 'forest', 'forest', 'forest', 'forest', 'forest', 'forest', 'forest', 'forest', 'forest', 'forest', 'forest', 'forest', 'forest', 'forest', 'forest', 'forest', 'forest', 'forest', 'forest', 'forest', 'forest', 'forest', 'forest', 'forest', 'forest', 'forest', 'forest', 'forest', 'forest', 'forest', 'forest', 'forest', 'forest', 'forest', 'forest', 'forest', 'forest', 'forest', 'forest', 'forest', 'forest', 'forest', 'forest', 'forest', 'forest', 'forest', 'forest', 'forest', 'forest', 'forest', 'forest', 'forest', 'forest', 'forest', 'forest', 'forest', 'forest', 'forest', 'forest', 'forest', 'forest', 'forest', 'forest', 'forest', 'forest', 'forest', 'forest', 'forest', 'forest', 'forest', 'forest', 'forest', 'forest', 'forest', 'forest', 'forest', 'forest', 'forest', 'forest', 'forest', 'forest', 'forest', 'forest', 'forest', 'forest', 'forest', 'forest', 'forest', 'forest', 'forest', 'forest', 'forest', 'forest', 'forest', 'forest', 'forest', 'forest', 'forest', 'forest', 'forest', 'forest', 'forest', 'forest', 'forest', 'forest', 'forest', 'forest', 'forest', 'forest', 'forest', 'forest', 'forest', 'forest', 'forest', 'forest', 'forest', 'forest', 'forest', 'forest', 'forest', 'forest', 'forest', 'forest', 'forest', 'forest', 'forest', 'forest', 'forest', 'forest', 'highway', 'highway', 'highway', 'highway', 'highway', 'highway', 'highway', 'highway', 'highway', 'highway', 'highway', 'highway', 'highway', 'highway', 'highway', 'highway', 'highway', 'highway', 'highway', 'highway', 'highway', 'highway', 'highway', 'highway', 'highway', 'highway', 'highway', 'highway', 'highway', 'highway', 'highway', 'highway', 'highway', 'highway', 'highway', 'highway', 'highway', 'highway', 'highway', 'highway', 'highway', 'highway', 'highway', 'highway', 'highway', 'highway', 'highway', 'highway', 'highway', 'highway', 'highway', 'highway', 'highway', 'highway', 'highway', 'highway', 'highway', 'highway', 'highway', 'highway', 'highway', 'highway', 'highway', 'highway', 'highway', 'highway', 'highway', 'highway', 'highway', 'highway', 'highway', 'highway', 'highway', 'highway', 'highway', 'highway', 'highway', 'highway', 'highway', 'highway', 'highway', 'highway', 'highway', 'highway', 'highway', 'highway', 'highway', 'highway', 'highway', 'highway', 'highway', 'highway', 'highway', 'highway', 'highway', 'highway', 'highway', 'highway', 'highway', 'highway', 'highway', 'highway', 'highway', 'highway', 'highway', 'highway', 'highway', 'highway', 'highway', 'highway', 'highway', 'highway', 'highway', 'highway', 'highway', 'highway', 'highway', 'highway', 'highway', 'highway', 'highway', 'highway', 'highway', 'highway', 'highway', 'highway', 'highway', 'highway', 'highway', 'highway', 'highway', 'highway', 'highway', 'highway', 'highway', 'highway', 'highway', 'highway', 'highway', 'highway', 'highway', 'highway', 'highway', 'highway', 'highway', 'highway', 'highway', 'highway', 'highway', 'highway', 'highway', 'highway', 'highway', 'highway', 'highway', 'highway', 'highway', 'highway', 'highway', 'highway', 'highway', 'highway', 'highway', 'highway', 'highway', 'highway', 'highway', 'highway', 'highway', 'highway', 'highway', 'highway', 'highway', 'highway', 'highway', 'highway', 'highway', 'highway', 'highway', 'highway', 'highway', 'highway', 'highway', 'highway', 'highway', 'highway', 'highway', 'highway', 'highway', 'highway', 'highway', 'highway', 'highway', 'highway', 'highway', 'highway', 'highway', 'highway', 'highway', 'highway', 'highway', 'highway', 'highway', 'highway', 'highway', 'highway', 'highway', 'highway', 'highway', 'highway', 'highway', 'highway', 'highway', 'highway', 'highway', 'highway', 'highway', 'highway', 'highway', 'highway', 'highway', 'highway', 'highway', 'highway', 'highway', 'highway', 'highway', 'highway', 'highway', 'highway', 'highway', 'highway', 'highway', 'highway', 'highway', 'highway', 'highway', 'highway', 'highway', 'highway', 'highway', 'highway', 'highway', 'highway', 'highway', 'highway', 'highway', 'highway', 'highway', 'highway', 'highway', 'highway', 'highway', 'highway', 'highway', 'highway', 'highway', 'highway', 'highway', 'highway']\n"
          ],
          "name": "stdout"
        }
      ]
    },
    {
      "cell_type": "code",
      "metadata": {
        "id": "r8yIePMHvx0w"
      },
      "source": [
        "# encode the labels, converting them from strings to integers\n",
        "lb = LabelBinarizer()\n",
        "labels = lb.fit_transform(labels)"
      ],
      "execution_count": 40,
      "outputs": []
    },
    {
      "cell_type": "code",
      "metadata": {
        "id": "5FPCyIqcVGB7",
        "colab": {
          "base_uri": "https://localhost:8080/"
        },
        "outputId": "9e287e47-3fc4-4c93-a038-1a9b6895924a"
      },
      "source": [
        "print(labels)"
      ],
      "execution_count": 41,
      "outputs": [
        {
          "output_type": "stream",
          "text": [
            "[[1 0 0]\n",
            " [1 0 0]\n",
            " [1 0 0]\n",
            " ...\n",
            " [0 0 1]\n",
            " [0 0 1]\n",
            " [0 0 1]]\n"
          ],
          "name": "stdout"
        }
      ]
    },
    {
      "cell_type": "code",
      "metadata": {
        "colab": {
          "base_uri": "https://localhost:8080/"
        },
        "id": "E-xr1UQ9-zhu",
        "outputId": "a497a196-6b1a-4cac-f286-933aeba01e5b"
      },
      "source": [
        "print(np.array(data).shape)"
      ],
      "execution_count": 42,
      "outputs": [
        {
          "output_type": "stream",
          "text": [
            "(948, 128, 128, 3)\n"
          ],
          "name": "stdout"
        }
      ]
    },
    {
      "cell_type": "code",
      "metadata": {
        "colab": {
          "base_uri": "https://localhost:8080/"
        },
        "id": "Xr8lG_sDv6tP",
        "outputId": "3d026bfb-6824-4641-bbb1-5729e2fec799"
      },
      "source": [
        "# perform a training and testing split, using 80% of the data for\n",
        "# training and 20% for evaluation\n",
        "(trainX, testX, trainY, testY) = train_test_split(np.array(data),\tnp.array(labels), test_size=0.10)\n",
        "print(trainX.shape)\n",
        "print(testX.shape)"
      ],
      "execution_count": 43,
      "outputs": [
        {
          "output_type": "stream",
          "text": [
            "(853, 128, 128, 3)\n",
            "(95, 128, 128, 3)\n"
          ],
          "name": "stdout"
        }
      ]
    },
    {
      "cell_type": "code",
      "metadata": {
        "id": "-jKeOzGSv9mH"
      },
      "source": [
        "from keras.models import Sequential\n",
        "from keras.layers.core import Flatten\n",
        "from keras.layers.core import Dense, Dropout\n",
        "\n",
        "model = Sequential(\n",
        "    [\n",
        "        Flatten(input_shape=(128*128*3,)),\n",
        "        Dense(256, activation=\"relu\"),\n",
        "        Dense(256, activation=\"relu\"),\n",
        "        Dense(128, activation=\"relu\"),\n",
        "        Dropout(0.3),\n",
        "        Dense(64, activation=\"relu\"),\n",
        "        Dense(64, activation=\"relu\"),\n",
        "        Dense(32, activation=\"relu\"),\n",
        "        Dropout(0.3),\n",
        "        Dense(16, activation=\"relu\"),\n",
        "        Dense(8, activation=\"relu\"),\n",
        "        Dense(3, activation = \"softmax\"),\n",
        "    ]\n",
        ")"
      ],
      "execution_count": 44,
      "outputs": []
    },
    {
      "cell_type": "code",
      "metadata": {
        "colab": {
          "base_uri": "https://localhost:8080/"
        },
        "id": "O2BScVo0wC62",
        "outputId": "370a43f6-0d78-45e8-9555-9112e0addec1"
      },
      "source": [
        "model.summary()"
      ],
      "execution_count": 45,
      "outputs": [
        {
          "output_type": "stream",
          "text": [
            "Model: \"sequential_2\"\n",
            "_________________________________________________________________\n",
            "Layer (type)                 Output Shape              Param #   \n",
            "=================================================================\n",
            "flatten_2 (Flatten)          (None, 49152)             0         \n",
            "_________________________________________________________________\n",
            "dense_18 (Dense)             (None, 256)               12583168  \n",
            "_________________________________________________________________\n",
            "dense_19 (Dense)             (None, 256)               65792     \n",
            "_________________________________________________________________\n",
            "dense_20 (Dense)             (None, 128)               32896     \n",
            "_________________________________________________________________\n",
            "dropout_4 (Dropout)          (None, 128)               0         \n",
            "_________________________________________________________________\n",
            "dense_21 (Dense)             (None, 64)                8256      \n",
            "_________________________________________________________________\n",
            "dense_22 (Dense)             (None, 64)                4160      \n",
            "_________________________________________________________________\n",
            "dense_23 (Dense)             (None, 32)                2080      \n",
            "_________________________________________________________________\n",
            "dropout_5 (Dropout)          (None, 32)                0         \n",
            "_________________________________________________________________\n",
            "dense_24 (Dense)             (None, 16)                528       \n",
            "_________________________________________________________________\n",
            "dense_25 (Dense)             (None, 8)                 136       \n",
            "_________________________________________________________________\n",
            "dense_26 (Dense)             (None, 3)                 27        \n",
            "=================================================================\n",
            "Total params: 12,697,043\n",
            "Trainable params: 12,697,043\n",
            "Non-trainable params: 0\n",
            "_________________________________________________________________\n"
          ],
          "name": "stdout"
        }
      ]
    },
    {
      "cell_type": "code",
      "metadata": {
        "colab": {
          "base_uri": "https://localhost:8080/"
        },
        "id": "h5MTj5SUwGpG",
        "outputId": "d77186b9-b045-4056-9a5b-e46252f5bf2d"
      },
      "source": [
        "# train the model using the Adam optimizer\n",
        "print(\"[INFO] training network...\")\n",
        "opt = Adam(lr=1e-3, decay=1e-3)\n",
        "model.compile(loss=\"categorical_crossentropy\", optimizer=opt,\n",
        "\tmetrics=[\"accuracy\"])\n",
        "H = model.fit(trainX, trainY, validation_data=(testX, testY), epochs=120, batch_size=32)"
      ],
      "execution_count": 46,
      "outputs": [
        {
          "output_type": "stream",
          "text": [
            "[INFO] training network...\n",
            "Epoch 1/120\n",
            "WARNING:tensorflow:Model was constructed with shape (None, 49152) for input KerasTensor(type_spec=TensorSpec(shape=(None, 49152), dtype=tf.float32, name='flatten_2_input'), name='flatten_2_input', description=\"created by layer 'flatten_2_input'\"), but it was called on an input with incompatible shape (None, 128, 128, 3).\n",
            "WARNING:tensorflow:Model was constructed with shape (None, 49152) for input KerasTensor(type_spec=TensorSpec(shape=(None, 49152), dtype=tf.float32, name='flatten_2_input'), name='flatten_2_input', description=\"created by layer 'flatten_2_input'\"), but it was called on an input with incompatible shape (None, 128, 128, 3).\n",
            "27/27 [==============================] - ETA: 0s - loss: 2.5168 - accuracy: 0.4068WARNING:tensorflow:Model was constructed with shape (None, 49152) for input KerasTensor(type_spec=TensorSpec(shape=(None, 49152), dtype=tf.float32, name='flatten_2_input'), name='flatten_2_input', description=\"created by layer 'flatten_2_input'\"), but it was called on an input with incompatible shape (None, 128, 128, 3).\n",
            "27/27 [==============================] - 3s 92ms/step - loss: 2.4945 - accuracy: 0.4054 - val_loss: 1.1194 - val_accuracy: 0.2105\n",
            "Epoch 2/120\n",
            "27/27 [==============================] - 2s 83ms/step - loss: 1.2753 - accuracy: 0.3325 - val_loss: 1.1499 - val_accuracy: 0.2737\n",
            "Epoch 3/120\n",
            "27/27 [==============================] - 2s 83ms/step - loss: 1.1540 - accuracy: 0.3348 - val_loss: 1.1132 - val_accuracy: 0.1895\n",
            "Epoch 4/120\n",
            "27/27 [==============================] - 2s 81ms/step - loss: 1.1237 - accuracy: 0.3153 - val_loss: 1.1030 - val_accuracy: 0.3579\n",
            "Epoch 5/120\n",
            "27/27 [==============================] - 2s 81ms/step - loss: 1.0883 - accuracy: 0.3814 - val_loss: 1.0835 - val_accuracy: 0.3579\n",
            "Epoch 6/120\n",
            "27/27 [==============================] - 2s 81ms/step - loss: 1.0972 - accuracy: 0.3792 - val_loss: 1.0861 - val_accuracy: 0.4421\n",
            "Epoch 7/120\n",
            "27/27 [==============================] - 2s 81ms/step - loss: 1.1161 - accuracy: 0.3419 - val_loss: 1.0530 - val_accuracy: 0.5263\n",
            "Epoch 8/120\n",
            "27/27 [==============================] - 2s 82ms/step - loss: 1.0766 - accuracy: 0.3987 - val_loss: 1.0371 - val_accuracy: 0.4737\n",
            "Epoch 9/120\n",
            "27/27 [==============================] - 2s 81ms/step - loss: 1.0569 - accuracy: 0.4221 - val_loss: 1.0168 - val_accuracy: 0.5368\n",
            "Epoch 10/120\n",
            "27/27 [==============================] - 2s 82ms/step - loss: 1.0004 - accuracy: 0.4692 - val_loss: 0.9648 - val_accuracy: 0.5789\n",
            "Epoch 11/120\n",
            "27/27 [==============================] - 2s 83ms/step - loss: 0.9815 - accuracy: 0.5325 - val_loss: 0.9152 - val_accuracy: 0.5895\n",
            "Epoch 12/120\n",
            "27/27 [==============================] - 2s 83ms/step - loss: 0.9336 - accuracy: 0.5221 - val_loss: 1.1119 - val_accuracy: 0.4000\n",
            "Epoch 13/120\n",
            "27/27 [==============================] - 2s 84ms/step - loss: 1.0038 - accuracy: 0.4601 - val_loss: 0.8361 - val_accuracy: 0.6105\n",
            "Epoch 14/120\n",
            "27/27 [==============================] - 2s 82ms/step - loss: 0.9213 - accuracy: 0.5311 - val_loss: 0.9076 - val_accuracy: 0.5368\n",
            "Epoch 15/120\n",
            "27/27 [==============================] - 2s 81ms/step - loss: 0.8868 - accuracy: 0.5509 - val_loss: 0.7694 - val_accuracy: 0.6316\n",
            "Epoch 16/120\n",
            "27/27 [==============================] - 2s 82ms/step - loss: 0.8587 - accuracy: 0.5918 - val_loss: 0.8377 - val_accuracy: 0.6105\n",
            "Epoch 17/120\n",
            "27/27 [==============================] - 2s 83ms/step - loss: 0.7944 - accuracy: 0.6156 - val_loss: 0.8094 - val_accuracy: 0.6211\n",
            "Epoch 18/120\n",
            "27/27 [==============================] - 2s 82ms/step - loss: 0.7754 - accuracy: 0.6057 - val_loss: 0.9345 - val_accuracy: 0.5895\n",
            "Epoch 19/120\n",
            "27/27 [==============================] - 2s 82ms/step - loss: 0.7962 - accuracy: 0.6025 - val_loss: 0.7074 - val_accuracy: 0.6737\n",
            "Epoch 20/120\n",
            "27/27 [==============================] - 2s 82ms/step - loss: 0.8152 - accuracy: 0.6222 - val_loss: 0.6398 - val_accuracy: 0.7474\n",
            "Epoch 21/120\n",
            "27/27 [==============================] - 2s 81ms/step - loss: 0.7084 - accuracy: 0.6778 - val_loss: 0.6642 - val_accuracy: 0.7158\n",
            "Epoch 22/120\n",
            "27/27 [==============================] - 2s 83ms/step - loss: 0.7024 - accuracy: 0.6482 - val_loss: 0.6366 - val_accuracy: 0.7684\n",
            "Epoch 23/120\n",
            "27/27 [==============================] - 2s 85ms/step - loss: 0.6307 - accuracy: 0.7403 - val_loss: 0.5881 - val_accuracy: 0.7789\n",
            "Epoch 24/120\n",
            "27/27 [==============================] - 2s 84ms/step - loss: 0.8234 - accuracy: 0.6525 - val_loss: 0.6358 - val_accuracy: 0.6737\n",
            "Epoch 25/120\n",
            "27/27 [==============================] - 2s 84ms/step - loss: 0.6332 - accuracy: 0.7530 - val_loss: 0.5599 - val_accuracy: 0.7895\n",
            "Epoch 26/120\n",
            "27/27 [==============================] - 2s 83ms/step - loss: 0.5935 - accuracy: 0.7643 - val_loss: 0.6332 - val_accuracy: 0.7158\n",
            "Epoch 27/120\n",
            "27/27 [==============================] - 2s 84ms/step - loss: 0.5938 - accuracy: 0.7548 - val_loss: 0.6203 - val_accuracy: 0.7684\n",
            "Epoch 28/120\n",
            "27/27 [==============================] - 2s 85ms/step - loss: 0.5669 - accuracy: 0.7835 - val_loss: 0.6285 - val_accuracy: 0.7053\n",
            "Epoch 29/120\n",
            "27/27 [==============================] - 2s 84ms/step - loss: 0.6045 - accuracy: 0.7480 - val_loss: 0.4933 - val_accuracy: 0.8421\n",
            "Epoch 30/120\n",
            "27/27 [==============================] - 2s 82ms/step - loss: 0.5986 - accuracy: 0.7593 - val_loss: 0.5578 - val_accuracy: 0.7789\n",
            "Epoch 31/120\n",
            "27/27 [==============================] - 2s 83ms/step - loss: 0.5695 - accuracy: 0.8015 - val_loss: 0.5086 - val_accuracy: 0.8211\n",
            "Epoch 32/120\n",
            "27/27 [==============================] - 2s 83ms/step - loss: 0.5496 - accuracy: 0.7881 - val_loss: 0.4650 - val_accuracy: 0.8632\n",
            "Epoch 33/120\n",
            "27/27 [==============================] - 2s 82ms/step - loss: 0.4690 - accuracy: 0.8142 - val_loss: 0.6564 - val_accuracy: 0.7263\n",
            "Epoch 34/120\n",
            "27/27 [==============================] - 2s 83ms/step - loss: 0.4887 - accuracy: 0.8007 - val_loss: 0.5344 - val_accuracy: 0.8105\n",
            "Epoch 35/120\n",
            "27/27 [==============================] - 2s 82ms/step - loss: 0.4521 - accuracy: 0.8237 - val_loss: 0.7354 - val_accuracy: 0.7158\n",
            "Epoch 36/120\n",
            "27/27 [==============================] - 2s 83ms/step - loss: 0.5675 - accuracy: 0.7805 - val_loss: 0.4593 - val_accuracy: 0.8211\n",
            "Epoch 37/120\n",
            "27/27 [==============================] - 2s 83ms/step - loss: 0.4763 - accuracy: 0.8228 - val_loss: 0.5074 - val_accuracy: 0.7789\n",
            "Epoch 38/120\n",
            "27/27 [==============================] - 2s 84ms/step - loss: 0.4320 - accuracy: 0.8405 - val_loss: 0.4957 - val_accuracy: 0.8105\n",
            "Epoch 39/120\n",
            "27/27 [==============================] - 2s 85ms/step - loss: 0.5195 - accuracy: 0.7842 - val_loss: 0.5229 - val_accuracy: 0.8105\n",
            "Epoch 40/120\n",
            "27/27 [==============================] - 2s 85ms/step - loss: 0.4465 - accuracy: 0.8342 - val_loss: 0.4637 - val_accuracy: 0.8421\n",
            "Epoch 41/120\n",
            "27/27 [==============================] - 2s 84ms/step - loss: 0.4018 - accuracy: 0.8525 - val_loss: 0.6543 - val_accuracy: 0.7684\n",
            "Epoch 42/120\n",
            "27/27 [==============================] - 2s 83ms/step - loss: 0.4585 - accuracy: 0.8295 - val_loss: 0.4693 - val_accuracy: 0.8316\n",
            "Epoch 43/120\n",
            "27/27 [==============================] - 2s 84ms/step - loss: 0.3739 - accuracy: 0.8633 - val_loss: 0.5490 - val_accuracy: 0.7684\n",
            "Epoch 44/120\n",
            "27/27 [==============================] - 2s 84ms/step - loss: 0.3985 - accuracy: 0.8345 - val_loss: 0.4619 - val_accuracy: 0.8632\n",
            "Epoch 45/120\n",
            "27/27 [==============================] - 2s 83ms/step - loss: 0.3188 - accuracy: 0.8883 - val_loss: 0.4758 - val_accuracy: 0.8316\n",
            "Epoch 46/120\n",
            "27/27 [==============================] - 2s 83ms/step - loss: 0.3306 - accuracy: 0.8716 - val_loss: 0.5088 - val_accuracy: 0.8316\n",
            "Epoch 47/120\n",
            "27/27 [==============================] - 2s 82ms/step - loss: 0.3367 - accuracy: 0.8886 - val_loss: 0.4211 - val_accuracy: 0.8632\n",
            "Epoch 48/120\n",
            "27/27 [==============================] - 2s 82ms/step - loss: 0.3150 - accuracy: 0.8934 - val_loss: 0.4674 - val_accuracy: 0.8526\n",
            "Epoch 49/120\n",
            "27/27 [==============================] - 2s 85ms/step - loss: 0.3132 - accuracy: 0.8937 - val_loss: 0.4355 - val_accuracy: 0.8737\n",
            "Epoch 50/120\n",
            "27/27 [==============================] - 2s 86ms/step - loss: 0.3132 - accuracy: 0.8868 - val_loss: 0.4645 - val_accuracy: 0.8842\n",
            "Epoch 51/120\n",
            "27/27 [==============================] - 2s 85ms/step - loss: 0.2976 - accuracy: 0.9019 - val_loss: 0.4996 - val_accuracy: 0.8421\n",
            "Epoch 52/120\n",
            "27/27 [==============================] - 2s 83ms/step - loss: 0.3693 - accuracy: 0.8672 - val_loss: 0.4840 - val_accuracy: 0.8316\n",
            "Epoch 53/120\n",
            "27/27 [==============================] - 2s 83ms/step - loss: 0.2722 - accuracy: 0.9123 - val_loss: 0.4668 - val_accuracy: 0.8947\n",
            "Epoch 54/120\n",
            "27/27 [==============================] - 2s 83ms/step - loss: 0.2737 - accuracy: 0.8917 - val_loss: 0.5067 - val_accuracy: 0.8632\n",
            "Epoch 55/120\n",
            "27/27 [==============================] - 2s 85ms/step - loss: 0.2370 - accuracy: 0.9118 - val_loss: 0.4760 - val_accuracy: 0.8526\n",
            "Epoch 56/120\n",
            "27/27 [==============================] - 2s 84ms/step - loss: 0.2913 - accuracy: 0.8838 - val_loss: 0.5044 - val_accuracy: 0.8211\n",
            "Epoch 57/120\n",
            "27/27 [==============================] - 2s 85ms/step - loss: 0.3491 - accuracy: 0.8826 - val_loss: 0.5318 - val_accuracy: 0.8105\n",
            "Epoch 58/120\n",
            "27/27 [==============================] - 2s 84ms/step - loss: 0.2443 - accuracy: 0.9252 - val_loss: 0.5414 - val_accuracy: 0.8105\n",
            "Epoch 59/120\n",
            "27/27 [==============================] - 2s 84ms/step - loss: 0.2303 - accuracy: 0.9248 - val_loss: 0.5351 - val_accuracy: 0.8737\n",
            "Epoch 60/120\n",
            "27/27 [==============================] - 2s 84ms/step - loss: 0.2287 - accuracy: 0.9082 - val_loss: 0.5482 - val_accuracy: 0.8000\n",
            "Epoch 61/120\n",
            "27/27 [==============================] - 2s 83ms/step - loss: 0.2844 - accuracy: 0.8978 - val_loss: 0.5429 - val_accuracy: 0.8526\n",
            "Epoch 62/120\n",
            "27/27 [==============================] - 2s 83ms/step - loss: 0.2106 - accuracy: 0.9313 - val_loss: 0.6173 - val_accuracy: 0.8000\n",
            "Epoch 63/120\n",
            "27/27 [==============================] - 2s 82ms/step - loss: 0.1722 - accuracy: 0.9445 - val_loss: 0.8238 - val_accuracy: 0.7579\n",
            "Epoch 64/120\n",
            "27/27 [==============================] - 2s 83ms/step - loss: 0.3366 - accuracy: 0.8915 - val_loss: 0.5010 - val_accuracy: 0.8737\n",
            "Epoch 65/120\n",
            "27/27 [==============================] - 2s 84ms/step - loss: 0.2395 - accuracy: 0.9309 - val_loss: 0.5919 - val_accuracy: 0.8526\n",
            "Epoch 66/120\n",
            "27/27 [==============================] - 2s 84ms/step - loss: 0.2122 - accuracy: 0.9284 - val_loss: 0.5798 - val_accuracy: 0.8526\n",
            "Epoch 67/120\n",
            "27/27 [==============================] - 2s 84ms/step - loss: 0.2267 - accuracy: 0.9254 - val_loss: 0.5923 - val_accuracy: 0.8316\n",
            "Epoch 68/120\n",
            "27/27 [==============================] - 2s 85ms/step - loss: 0.2007 - accuracy: 0.9257 - val_loss: 0.6353 - val_accuracy: 0.8000\n",
            "Epoch 69/120\n",
            "27/27 [==============================] - 2s 86ms/step - loss: 0.3528 - accuracy: 0.8827 - val_loss: 0.5812 - val_accuracy: 0.7895\n",
            "Epoch 70/120\n",
            "27/27 [==============================] - 2s 85ms/step - loss: 0.2490 - accuracy: 0.8982 - val_loss: 0.6500 - val_accuracy: 0.8211\n",
            "Epoch 71/120\n",
            "27/27 [==============================] - 2s 84ms/step - loss: 0.2245 - accuracy: 0.9303 - val_loss: 0.5861 - val_accuracy: 0.8737\n",
            "Epoch 72/120\n",
            "27/27 [==============================] - 2s 83ms/step - loss: 0.1471 - accuracy: 0.9484 - val_loss: 0.6790 - val_accuracy: 0.8211\n",
            "Epoch 73/120\n",
            "27/27 [==============================] - 2s 85ms/step - loss: 0.1527 - accuracy: 0.9483 - val_loss: 0.6435 - val_accuracy: 0.8632\n",
            "Epoch 74/120\n",
            "27/27 [==============================] - 2s 86ms/step - loss: 0.1709 - accuracy: 0.9455 - val_loss: 0.6269 - val_accuracy: 0.8316\n",
            "Epoch 75/120\n",
            "27/27 [==============================] - 2s 85ms/step - loss: 0.2250 - accuracy: 0.9351 - val_loss: 0.6728 - val_accuracy: 0.8526\n",
            "Epoch 76/120\n",
            "27/27 [==============================] - 2s 84ms/step - loss: 0.2432 - accuracy: 0.9149 - val_loss: 0.5736 - val_accuracy: 0.8421\n",
            "Epoch 77/120\n",
            "27/27 [==============================] - 2s 84ms/step - loss: 0.1914 - accuracy: 0.9442 - val_loss: 0.7597 - val_accuracy: 0.8526\n",
            "Epoch 78/120\n",
            "27/27 [==============================] - 2s 83ms/step - loss: 0.2176 - accuracy: 0.9288 - val_loss: 0.7836 - val_accuracy: 0.8105\n",
            "Epoch 79/120\n",
            "27/27 [==============================] - 2s 82ms/step - loss: 0.1937 - accuracy: 0.9322 - val_loss: 0.6405 - val_accuracy: 0.8211\n",
            "Epoch 80/120\n",
            "27/27 [==============================] - 2s 84ms/step - loss: 0.1458 - accuracy: 0.9409 - val_loss: 0.6559 - val_accuracy: 0.8421\n",
            "Epoch 81/120\n",
            "27/27 [==============================] - 2s 85ms/step - loss: 0.1635 - accuracy: 0.9441 - val_loss: 0.5949 - val_accuracy: 0.9053\n",
            "Epoch 82/120\n",
            "27/27 [==============================] - 2s 83ms/step - loss: 0.1573 - accuracy: 0.9486 - val_loss: 0.6414 - val_accuracy: 0.8632\n",
            "Epoch 83/120\n",
            "27/27 [==============================] - 2s 84ms/step - loss: 0.1785 - accuracy: 0.9414 - val_loss: 0.7110 - val_accuracy: 0.8526\n",
            "Epoch 84/120\n",
            "27/27 [==============================] - 2s 85ms/step - loss: 0.1651 - accuracy: 0.9408 - val_loss: 0.7750 - val_accuracy: 0.8316\n",
            "Epoch 85/120\n",
            "27/27 [==============================] - 2s 84ms/step - loss: 0.1176 - accuracy: 0.9597 - val_loss: 0.8084 - val_accuracy: 0.8105\n",
            "Epoch 86/120\n",
            "27/27 [==============================] - 2s 83ms/step - loss: 0.1551 - accuracy: 0.9398 - val_loss: 0.6638 - val_accuracy: 0.8737\n",
            "Epoch 87/120\n",
            "27/27 [==============================] - 2s 83ms/step - loss: 0.1387 - accuracy: 0.9495 - val_loss: 0.6375 - val_accuracy: 0.8632\n",
            "Epoch 88/120\n",
            "27/27 [==============================] - 2s 84ms/step - loss: 0.1370 - accuracy: 0.9487 - val_loss: 0.7662 - val_accuracy: 0.8526\n",
            "Epoch 89/120\n",
            "27/27 [==============================] - 2s 83ms/step - loss: 0.0768 - accuracy: 0.9743 - val_loss: 0.6871 - val_accuracy: 0.8632\n",
            "Epoch 90/120\n",
            "27/27 [==============================] - 2s 83ms/step - loss: 0.1375 - accuracy: 0.9446 - val_loss: 0.7409 - val_accuracy: 0.8421\n",
            "Epoch 91/120\n",
            "27/27 [==============================] - 2s 82ms/step - loss: 0.1863 - accuracy: 0.9269 - val_loss: 0.7176 - val_accuracy: 0.8316\n",
            "Epoch 92/120\n",
            "27/27 [==============================] - 2s 83ms/step - loss: 0.1361 - accuracy: 0.9596 - val_loss: 0.6995 - val_accuracy: 0.8316\n",
            "Epoch 93/120\n",
            "27/27 [==============================] - 2s 84ms/step - loss: 0.1668 - accuracy: 0.9441 - val_loss: 0.6584 - val_accuracy: 0.8632\n",
            "Epoch 94/120\n",
            "27/27 [==============================] - 2s 85ms/step - loss: 0.1042 - accuracy: 0.9696 - val_loss: 0.7257 - val_accuracy: 0.8737\n",
            "Epoch 95/120\n",
            "27/27 [==============================] - 2s 85ms/step - loss: 0.1438 - accuracy: 0.9487 - val_loss: 0.8011 - val_accuracy: 0.8421\n",
            "Epoch 96/120\n",
            "27/27 [==============================] - 2s 85ms/step - loss: 0.1216 - accuracy: 0.9554 - val_loss: 0.7344 - val_accuracy: 0.8526\n",
            "Epoch 97/120\n",
            "27/27 [==============================] - 2s 85ms/step - loss: 0.0956 - accuracy: 0.9708 - val_loss: 0.8178 - val_accuracy: 0.8737\n",
            "Epoch 98/120\n",
            "27/27 [==============================] - 2s 83ms/step - loss: 0.1156 - accuracy: 0.9577 - val_loss: 0.7315 - val_accuracy: 0.8421\n",
            "Epoch 99/120\n",
            "27/27 [==============================] - 2s 84ms/step - loss: 0.1704 - accuracy: 0.9203 - val_loss: 0.8744 - val_accuracy: 0.8105\n",
            "Epoch 100/120\n",
            "27/27 [==============================] - 2s 83ms/step - loss: 0.0920 - accuracy: 0.9653 - val_loss: 0.8506 - val_accuracy: 0.8316\n",
            "Epoch 101/120\n",
            "27/27 [==============================] - 2s 83ms/step - loss: 0.0801 - accuracy: 0.9669 - val_loss: 0.9250 - val_accuracy: 0.8421\n",
            "Epoch 102/120\n",
            "27/27 [==============================] - 2s 85ms/step - loss: 0.0569 - accuracy: 0.9748 - val_loss: 0.7473 - val_accuracy: 0.8842\n",
            "Epoch 103/120\n",
            "27/27 [==============================] - 2s 83ms/step - loss: 0.1086 - accuracy: 0.9612 - val_loss: 1.0058 - val_accuracy: 0.7579\n",
            "Epoch 104/120\n",
            "27/27 [==============================] - 2s 84ms/step - loss: 0.1825 - accuracy: 0.9257 - val_loss: 1.1472 - val_accuracy: 0.8000\n",
            "Epoch 105/120\n",
            "27/27 [==============================] - 2s 85ms/step - loss: 0.0767 - accuracy: 0.9705 - val_loss: 0.7705 - val_accuracy: 0.8737\n",
            "Epoch 106/120\n",
            "27/27 [==============================] - 2s 85ms/step - loss: 0.0743 - accuracy: 0.9702 - val_loss: 0.9601 - val_accuracy: 0.8316\n",
            "Epoch 107/120\n",
            "27/27 [==============================] - 2s 85ms/step - loss: 0.0533 - accuracy: 0.9827 - val_loss: 1.0337 - val_accuracy: 0.8211\n",
            "Epoch 108/120\n",
            "27/27 [==============================] - 2s 84ms/step - loss: 0.0750 - accuracy: 0.9714 - val_loss: 0.8890 - val_accuracy: 0.8737\n",
            "Epoch 109/120\n",
            "27/27 [==============================] - 2s 85ms/step - loss: 0.0834 - accuracy: 0.9648 - val_loss: 0.9929 - val_accuracy: 0.8211\n",
            "Epoch 110/120\n",
            "27/27 [==============================] - 2s 83ms/step - loss: 0.1151 - accuracy: 0.9527 - val_loss: 1.0712 - val_accuracy: 0.8000\n",
            "Epoch 111/120\n",
            "27/27 [==============================] - 2s 85ms/step - loss: 0.1048 - accuracy: 0.9646 - val_loss: 1.0803 - val_accuracy: 0.8526\n",
            "Epoch 112/120\n",
            "27/27 [==============================] - 2s 84ms/step - loss: 0.1131 - accuracy: 0.9624 - val_loss: 0.9865 - val_accuracy: 0.8526\n",
            "Epoch 113/120\n",
            "27/27 [==============================] - 2s 84ms/step - loss: 0.0942 - accuracy: 0.9637 - val_loss: 0.8361 - val_accuracy: 0.8632\n",
            "Epoch 114/120\n",
            "27/27 [==============================] - 2s 84ms/step - loss: 0.0752 - accuracy: 0.9700 - val_loss: 0.8435 - val_accuracy: 0.8737\n",
            "Epoch 115/120\n",
            "27/27 [==============================] - 2s 85ms/step - loss: 0.0542 - accuracy: 0.9838 - val_loss: 0.9501 - val_accuracy: 0.8421\n",
            "Epoch 116/120\n",
            "27/27 [==============================] - 2s 87ms/step - loss: 0.0696 - accuracy: 0.9738 - val_loss: 0.9140 - val_accuracy: 0.8526\n",
            "Epoch 117/120\n",
            "27/27 [==============================] - 2s 85ms/step - loss: 0.0928 - accuracy: 0.9678 - val_loss: 1.1794 - val_accuracy: 0.8421\n",
            "Epoch 118/120\n",
            "27/27 [==============================] - 2s 84ms/step - loss: 0.0650 - accuracy: 0.9760 - val_loss: 0.9254 - val_accuracy: 0.8421\n",
            "Epoch 119/120\n",
            "27/27 [==============================] - 2s 84ms/step - loss: 0.0551 - accuracy: 0.9828 - val_loss: 0.8192 - val_accuracy: 0.8842\n",
            "Epoch 120/120\n",
            "27/27 [==============================] - 2s 84ms/step - loss: 0.0589 - accuracy: 0.9764 - val_loss: 0.8481 - val_accuracy: 0.8737\n"
          ],
          "name": "stdout"
        }
      ]
    },
    {
      "cell_type": "code",
      "metadata": {
        "colab": {
          "base_uri": "https://localhost:8080/",
          "height": 590
        },
        "id": "LcE-OzSJwMC-",
        "outputId": "473a5414-1bfa-44c2-c882-84e405c14c28"
      },
      "source": [
        "import matplotlib.pyplot as plt\n",
        "\n",
        "print(H.history.keys())\n",
        "# summarize history for accuracy\n",
        "plt.plot(H.history['accuracy'])\n",
        "plt.plot(H.history['val_accuracy'])\n",
        "plt.title('model accuracy')\n",
        "plt.ylabel('accuracy')\n",
        "plt.xlabel('epoch')\n",
        "plt.legend(['train', 'test'], loc='upper left')\n",
        "plt.show()\n",
        "# summarize history for loss\n",
        "plt.plot(H.history['loss'])\n",
        "plt.plot(H.history['val_loss'])\n",
        "plt.title('model loss')\n",
        "plt.ylabel('loss')\n",
        "plt.xlabel('epoch')\n",
        "plt.legend(['train', 'test'], loc='upper left')\n",
        "plt.show()"
      ],
      "execution_count": 47,
      "outputs": [
        {
          "output_type": "stream",
          "text": [
            "dict_keys(['loss', 'accuracy', 'val_loss', 'val_accuracy'])\n"
          ],
          "name": "stdout"
        },
        {
          "output_type": "display_data",
          "data": {
            "image/png": "[encoded data removed]",
            "text/plain": [
              "<Figure size 432x288 with 1 Axes>"
            ]
          },
          "metadata": {
            "tags": [],
            "needs_background": "light"
          }
        },
        {
          "output_type": "display_data",
          "data": {
            "image/png": "[encoded data removed]",
            "text/plain": [
              "<Figure size 432x288 with 1 Axes>"
            ]
          },
          "metadata": {
            "tags": [],
            "needs_background": "light"
          }
        }
      ]
    },
    {
      "cell_type": "code",
      "metadata": {
        "colab": {
          "base_uri": "https://localhost:8080/"
        },
        "id": "a-YnZ8-bwmcY",
        "outputId": "812f1907-bd0b-4ded-9305-ee766ae58f55"
      },
      "source": [
        "# evaluate the network\n",
        "print(\"[INFO] evaluating network...\")\n",
        "predictions = model.predict(testX, batch_size=32)\n",
        "print(classification_report(testY.argmax(axis=1),\n",
        "\tpredictions.argmax(axis=1), target_names=lb.classes_))"
      ],
      "execution_count": 48,
      "outputs": [
        {
          "output_type": "stream",
          "text": [
            "[INFO] evaluating network...\n",
            "WARNING:tensorflow:Model was constructed with shape (None, 49152) for input KerasTensor(type_spec=TensorSpec(shape=(None, 49152), dtype=tf.float32, name='flatten_2_input'), name='flatten_2_input', description=\"created by layer 'flatten_2_input'\"), but it was called on an input with incompatible shape (None, 128, 128, 3).\n",
            "              precision    recall  f1-score   support\n",
            "\n",
            "       coast       0.79      0.88      0.83        34\n",
            "      forest       0.97      0.88      0.92        41\n",
            "     highway       0.85      0.85      0.85        20\n",
            "\n",
            "    accuracy                           0.87        95\n",
            "   macro avg       0.87      0.87      0.87        95\n",
            "weighted avg       0.88      0.87      0.88        95\n",
            "\n"
          ],
          "name": "stdout"
        }
      ]
    }
  ]
}